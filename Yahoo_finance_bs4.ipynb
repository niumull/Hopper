{
 "cells": [
  {
   "cell_type": "code",
   "execution_count": 2,
   "metadata": {},
   "outputs": [],
   "source": [
    "import requests\n",
    "from bs4 import BeautifulSoup\n",
    "import numpy as np\n",
    "import pandas as pd\n",
    "from datetime import timedelta, date\n",
    "import time"
   ]
  },
  {
   "cell_type": "markdown",
   "metadata": {},
   "source": [
    "# Events"
   ]
  },
  {
   "cell_type": "code",
   "execution_count": 14,
   "metadata": {
    "code_folding": []
   },
   "outputs": [],
   "source": [
    "def grab_events_data(start_year, start_month, start_day, end_year, end_month, end_day):\n",
    "    month_str = [\"Jan\", \"Feb\", \"Mar\", \"Apr\", \"May\", \"Jun\", \"Jul\", \"Aug\", \"Sep\", \"Oct\", \"Nov\", \"Dec\"]\n",
    "    month_num = ['01', '02', '03', '04', '05', '06', '07', '08', '09', '10', '11', '12']\n",
    "    def daterange(date1, date2):\n",
    "        for n in range(int ((date2 - date1).days)+1):\n",
    "            yield date1 + timedelta(n)\n",
    "\n",
    "    start_dt = date(start_year, start_month, start_day)\n",
    "    end_dt = date(end_year, end_month, end_day)\n",
    "    datelist = []\n",
    "    for dt in daterange(start_dt, end_dt):\n",
    "        datelist.append(dt.strftime(\"%Y-%m-%d\"))\n",
    "    \n",
    "    for i in range(len(datelist)):\n",
    "        web_url = 'https://finance.yahoo.com/calendar/economic?day=' +  datelist[i]\n",
    "        page = requests.get(web_url)\n",
    "        soup = BeautifulSoup(page.content, 'html.parser')\n",
    "\n",
    "        a = soup.find_all('td')\n",
    "        if a == []:\n",
    "            dataset = []\n",
    "            df = pd.DataFrame(dataset, columns=['Event', 'Event Time', 'For', 'Actual', 'Market Expectation', \n",
    "                                                'Country', 'Prior to This', 'Revised from'])\n",
    "        else:\n",
    "            raw_data = []\n",
    "            for j in range(len(a)):\n",
    "                raw_data.append(a[j].string)\n",
    "\n",
    "            dataset = np.split(np.array(raw_data), len(raw_data)/8)\n",
    "            df = pd.DataFrame(dataset, columns=['Event', 'Event Time', 'For', 'Actual', 'Market Expectation', \n",
    "                                       'Country', 'Prior to This', 'Revised from'])\n",
    "            \n",
    "\n",
    "            for a in range(len(df['For'])):\n",
    "                for b in range(len(month_str)):\n",
    "                    if df['For'][a] == month_str[b]:\n",
    "                        df['For'][a] = '=' + '\"' + month_num[b] + '/2017' + '\"'\n",
    "#         df.to_csv('b.csv', date_format='%m/%Y')\n",
    "        filename = datelist[i] + '.csv'\n",
    "        df.to_csv(filename)\n",
    "#     print(datelist)"
   ]
  },
  {
   "cell_type": "code",
   "execution_count": 15,
   "metadata": {},
   "outputs": [
    {
     "name": "stdout",
     "output_type": "stream",
     "text": [
      "['2017-01-01', '2017-01-02', '2017-01-03', '2017-01-04', '2017-01-05', '2017-01-06', '2017-01-07', '2017-01-08', '2017-01-09', '2017-01-10']\n"
     ]
    }
   ],
   "source": [
    "grab_events_data(2017,1,1,2017,1,10)"
   ]
  },
  {
   "cell_type": "code",
   "execution_count": null,
   "metadata": {},
   "outputs": [],
   "source": []
  },
  {
   "cell_type": "markdown",
   "metadata": {},
   "source": [
    "# Stock price"
   ]
  },
  {
   "cell_type": "code",
   "execution_count": null,
   "metadata": {},
   "outputs": [],
   "source": [
    "def grab_hist_stock_data(symbol, start_year, start_month, start_day, end_year, end_month, end_day):\n",
    "    \n",
    "    start_dt = date(start_year, start_month, start_day)\n",
    "    end_dt = date(end_year, end_month, end_day)\n",
    "    start_str = str(int(time.mktime(start_dt.timetuple())))\n",
    "    end_str = str(int(time.mktime(end_dt.timetuple())))\n",
    "    \n",
    "    web_url = 'https://finance.yahoo.com/quote/' +  symbol + '/history?period1=' + start_str + '&period2=' + end_str + '&interval=1d&filter=history&frequency=1d'\n",
    "    page = requests.get(web_url)\n",
    "    soup = BeautifulSoup(page.content, 'html.parser')\n",
    "    a = soup.find_all('td')\n",
    "    \n",
    "    df_columns = ['Date', 'Open', 'High', 'Low', 'Close*', 'Adj Close**', 'Volume']\n",
    "    if a == []:\n",
    "        dataset = []\n",
    "        df = pd.DataFrame(dataset, columns=df_columns)\n",
    "    else:\n",
    "        raw_data = []\n",
    "        for j in range(len(a)):\n",
    "            if a[j].string == None and j != len(a)-1:\n",
    "                raw_data = raw_data[:-1]\n",
    "            elif a[j].string == None:\n",
    "                pass\n",
    "            else:\n",
    "                raw_data.append(a[j].string)\n",
    "\n",
    "        dataset = np.split(np.array(raw_data), len(raw_data)/7)\n",
    "        df = pd.DataFrame(dataset, columns=df_columns)\n",
    "        filename = symbol + '_' + start_dt.strftime(\"%Y-%m-%d\") + '_' + end_dt.strftime(\"%Y-%m-%d\") + '.csv'\n",
    "        df.to_csv(filename)"
   ]
  },
  {
   "cell_type": "code",
   "execution_count": null,
   "metadata": {},
   "outputs": [],
   "source": [
    "grab_hist_stock_data('GOOG', 2017,1,1,2017,10,10)"
   ]
  },
  {
   "cell_type": "code",
   "execution_count": null,
   "metadata": {},
   "outputs": [],
   "source": []
  },
  {
   "cell_type": "code",
   "execution_count": null,
   "metadata": {},
   "outputs": [],
   "source": []
  }
 ],
 "metadata": {
  "kernelspec": {
   "display_name": "Python 3",
   "language": "python",
   "name": "python3"
  },
  "language_info": {
   "codemirror_mode": {
    "name": "ipython",
    "version": 3
   },
   "file_extension": ".py",
   "mimetype": "text/x-python",
   "name": "python",
   "nbconvert_exporter": "python",
   "pygments_lexer": "ipython3",
   "version": "3.6.3"
  },
  "nbTranslate": {
   "displayLangs": [
    "*"
   ],
   "hotkey": "alt-t",
   "langInMainMenu": true,
   "sourceLang": "en",
   "targetLang": "fr",
   "useGoogleTranslate": true
  }
 },
 "nbformat": 4,
 "nbformat_minor": 2
}
