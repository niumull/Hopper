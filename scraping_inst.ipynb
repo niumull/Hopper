{
 "cells": [
  {
   "cell_type": "code",
   "execution_count": 4,
   "metadata": {
    "collapsed": true
   },
   "outputs": [],
   "source": [
    "import requests\n",
    "from bs4 import BeautifulSoup\n",
    "import numpy as np\n",
    "import pandas as pd\n",
    "from datetime import timedelta, date\n",
    "import sys\n",
    "import time\n",
    "import warnings\n",
    "from webcolors import normalize_hex\n",
    "from colour import Color\n",
    "warnings.filterwarnings(\"ignore\")\n",
    "from lxml import html\n",
    "import urllib2\n",
    "import selenium\n",
    "from selenium import webdriver\n",
    "from selenium.webdriver.common.keys import Keys\n",
    "from selenium.webdriver.common.by import By\n",
    "from selenium.webdriver.support import expected_conditions as EC\n",
    "from selenium.webdriver.support.ui import WebDriverWait\n",
    "from time import sleep\n",
    "from django.utils.encoding import smart_str, smart_unicode\n",
    "from sqlalchemy import create_engine\n",
    "from sqlalchemy import *\n",
    "import sqlalchemy\n"
   ]
  },
  {
   "cell_type": "code",
   "execution_count": 5,
   "metadata": {},
   "outputs": [
    {
     "name": "stdout",
     "output_type": "stream",
     "text": [
      "12\n",
      "24\n",
      "36\n",
      "48\n",
      "60\n",
      "84\n",
      "96\n",
      "96\n"
     ]
    }
   ],
   "source": [
    "driver = webdriver.Chrome('C:/Users/mniu/Desktop/Edmit/data_processing/chromedriver.exe')\n",
    "\n",
    "username = \"mniu19910726@gmail.com\" \n",
    "password = \"1234Abcd!\" \n",
    "\n",
    "driver.get(\"https://www.instagram.com/accounts/login/\")\n",
    "sleep(2)\n",
    "driver.find_elements_by_name(\"username\")[0].send_keys(username)\n",
    "driver.find_elements_by_name(\"password\")[0].send_keys(password)\n",
    "\n",
    "driver.find_element_by_xpath(\"//span/button\").click()\n",
    "sleep(3)\n",
    "\n",
    "driver.get(\"https://www.instagram.com/data.science/\")\n",
    "driver.find_element_by_partial_link_text(\"followers\").click()\n",
    "sleep(3)\n",
    "allfoll=int(driver.find_element_by_xpath(\"//li[2]/a/span\").text)\n",
    "\n",
    "old_follow_number = 0\n",
    "follow_number = 0.1\n",
    "while (follow_number < allfoll) and (old_follow_number != follow_number):\n",
    "    sleep(1)\n",
    "    old_follow_number =  follow_number\n",
    "\n",
    "    driver.find_elements_by_class_name('_6e4x5')[-1].click()\n",
    "    records = BeautifulSoup(driver.page_source).find_all(class_ = '_6e4x5')\n",
    "    follow_number = len(records)\n",
    "    print follow_number\n"
   ]
  },
  {
   "cell_type": "code",
   "execution_count": 6,
   "metadata": {},
   "outputs": [
    {
     "name": "stdout",
     "output_type": "stream",
     "text": [
      "Follower Name:\n",
      "jaredk_249\n",
      "\n",
      "Profile Picture\n",
      "https://scontent-lga3-1.cdninstagram.com/vp/21128e0a6fdd882667e3098799603ed0/5B77D35C/t51.2885-19/s150x150/30946284_168204050544260_6640707244268716032_n.jpg\n"
     ]
    }
   ],
   "source": [
    "records = BeautifulSoup(driver.page_source).find_all(class_ = '_6e4x5')\n",
    "print 'Follower Name:'\n",
    "print str(records[0].find(class_='_2nunc').text)\n",
    "print\n",
    "print 'Profile Picture'\n",
    "print records[0].find(class_='_rewi8')['src']"
   ]
  },
  {
   "cell_type": "code",
   "execution_count": null,
   "metadata": {
    "collapsed": true
   },
   "outputs": [],
   "source": []
  },
  {
   "cell_type": "code",
   "execution_count": null,
   "metadata": {
    "collapsed": true
   },
   "outputs": [],
   "source": []
  },
  {
   "cell_type": "code",
   "execution_count": null,
   "metadata": {
    "collapsed": true
   },
   "outputs": [],
   "source": []
  },
  {
   "cell_type": "code",
   "execution_count": null,
   "metadata": {
    "collapsed": true
   },
   "outputs": [],
   "source": []
  },
  {
   "cell_type": "code",
   "execution_count": null,
   "metadata": {
    "collapsed": true
   },
   "outputs": [],
   "source": []
  },
  {
   "cell_type": "code",
   "execution_count": null,
   "metadata": {
    "collapsed": true
   },
   "outputs": [],
   "source": []
  }
 ],
 "metadata": {
  "kernelspec": {
   "display_name": "Python 2",
   "language": "python",
   "name": "python2"
  },
  "language_info": {
   "codemirror_mode": {
    "name": "ipython",
    "version": 2
   },
   "file_extension": ".py",
   "mimetype": "text/x-python",
   "name": "python",
   "nbconvert_exporter": "python",
   "pygments_lexer": "ipython2",
   "version": "2.7.14"
  }
 },
 "nbformat": 4,
 "nbformat_minor": 2
}
