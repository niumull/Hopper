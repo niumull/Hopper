{
 "cells": [
  {
   "cell_type": "code",
   "execution_count": 1,
   "metadata": {
    "collapsed": true
   },
   "outputs": [],
   "source": [
    "import requests\n",
    "from bs4 import BeautifulSoup\n",
    "import numpy as np\n",
    "import pandas as pd\n",
    "from datetime import timedelta, date\n",
    "import time\n",
    "import smtplib\n",
    "\n",
    "from email.mime.multipart import MIMEMultipart\n",
    "from email.mime.text import MIMEText"
   ]
  },
  {
   "cell_type": "code",
   "execution_count": 4,
   "metadata": {
    "collapsed": true
   },
   "outputs": [],
   "source": [
    "def sent_a_arxiv_mail(cat, you='mniu0726@gmail.com'):\n",
    "    web_url = 'https://arxiv.org/list/' + cat + '/pastweek?show=500'\n",
    "    page = requests.get(web_url)\n",
    "    soup = BeautifulSoup(page.content, 'html.parser')\n",
    "    info_raw = soup.find_all('dl')[0]\n",
    "    info_url = info_raw.find_all('dt')\n",
    "    instant_raw = info_raw.find_all('dd')\n",
    "\n",
    "    paper_name = []\n",
    "    authors = []\n",
    "    urls = []\n",
    "    for i in range(len(instant_raw)):\n",
    "        paper_name.append(instant_raw[i].text.split('\\n')[3].replace('Title: ', '')) \n",
    "        authors.append(' '.join(instant_raw[i].text.split('\\n')[6:][:instant_raw[i].text.split('\\n')[6:].index(\"\")]))\n",
    "        urls.append(\"https://arxiv.org\" + str(info_url[i].find_all(title='Download PDF')[0]['href']) + \".pdf\")\n",
    "    # print(paper_name)\n",
    "    # print()\n",
    "    origin_str = '<p>'\n",
    "    for i in range(len(instant_raw)):\n",
    "        new_str = '<strong><a href=\\\"' + urls[i] + '\\\">' + paper_name[i] + '</a></strong><br />' + authors[i] + '<br /><br/>'\n",
    "        origin_str = origin_str + new_str\n",
    "    origin_str = origin_str + '</p>'\n",
    "    origin_str = origin_str.encode('utf-8')\n",
    "    \n",
    "    me = \"mniu0726@gmail.com\"\n",
    "    \n",
    "    msg = MIMEMultipart('alternative')\n",
    "    if cat == 'cs.AI':\n",
    "        msg['Subject'] = \"New Papers from arxiv -- Artificial Intelligence\"    \n",
    "    elif cat == 'cs.DS':\n",
    "        msg['Subject'] = \"New Papers from arxiv -- Data Structures and Algorithms\"\n",
    "    elif cat == 'cs.DB':\n",
    "        msg['Subject'] = \"New Papers from arxiv -- Databases\"\n",
    "    elif cat == 'cs.NA':\n",
    "        msg['Subject'] = \"New Papers from arxiv -- Numerical Analysis\"\n",
    "    elif cat == 'stat.ML':\n",
    "        msg['Subject'] = \"New Papers from arxiv -- Machine Learning\"\n",
    "    elif cat == 'q-fin':\n",
    "        msg['Subject'] = \"New Papers from arxiv -- Quantitative Finance\"\n",
    "    elif cat == 'cs.CE':\n",
    "        msg['Subject'] = \"New Papers from arxiv -- Computational Engineering, Finance, and Science\"\n",
    "    else:\n",
    "        msg['Subject'] = \"New Papers from arxiv -- unknown category\"\n",
    "            \n",
    "    msg['From'] = me\n",
    "    msg['To'] = you\n",
    "\n",
    "    # <h3> is the bold trigger, 3 is the font size, the bigger the smaller\n",
    "    html = origin_str\n",
    "\n",
    "    part2 = MIMEText(html, 'html')\n",
    "    msg.attach(part2)\n",
    "    mail = smtplib.SMTP('smtp.gmail.com', 587)\n",
    "    mail.ehlo()\n",
    "    mail.starttls()\n",
    "\n",
    "    mail.login('mniu0726@gmail.com', 'nfbcjnm19910726')\n",
    "    mail.sendmail(me, you, msg.as_string())\n",
    "    mail.quit()"
   ]
  },
  {
   "cell_type": "code",
   "execution_count": 6,
   "metadata": {
    "collapsed": true
   },
   "outputs": [],
   "source": [
    "Mu_list = ['cs.AI', 'cs.DB', 'stat.ML', 'cs.DS']\n",
    "yun_list = ['q-fin', 'cs.CE', 'stat.ML']\n",
    "\n",
    "for i in range(len(Mu_list)):\n",
    "    sent_a_arxiv_mail(Mu_list[i], 'mniu19910726@gmail.com')\n",
    "# for i in range(len(yun_list)):\n",
    "#     sent_a_arxiv_mail(yun_list[i], you='qingyun1993@gmail.com')"
   ]
  },
  {
   "cell_type": "code",
   "execution_count": null,
   "metadata": {
    "collapsed": true
   },
   "outputs": [],
   "source": []
  },
  {
   "cell_type": "code",
   "execution_count": null,
   "metadata": {
    "collapsed": true
   },
   "outputs": [],
   "source": []
  },
  {
   "cell_type": "code",
   "execution_count": null,
   "metadata": {
    "collapsed": true
   },
   "outputs": [],
   "source": []
  }
 ],
 "metadata": {
  "kernelspec": {
   "display_name": "Python 2",
   "language": "python",
   "name": "python2"
  },
  "language_info": {
   "codemirror_mode": {
    "name": "ipython",
    "version": 2
   },
   "file_extension": ".py",
   "mimetype": "text/x-python",
   "name": "python",
   "nbconvert_exporter": "python",
   "pygments_lexer": "ipython2",
   "version": "2.7.14"
  },
  "nbTranslate": {
   "displayLangs": [
    "*"
   ],
   "hotkey": "alt-t",
   "langInMainMenu": true,
   "sourceLang": "en",
   "targetLang": "fr",
   "useGoogleTranslate": true
  }
 },
 "nbformat": 4,
 "nbformat_minor": 2
}
